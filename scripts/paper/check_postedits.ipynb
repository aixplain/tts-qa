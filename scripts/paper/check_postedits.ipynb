{
 "cells": [
  {
   "cell_type": "code",
   "execution_count": null,
   "metadata": {},
   "outputs": [],
   "source": [
    "# connect to postgresql db usingenvironment variable read from vars.env \n",
    "\n",
    "import warnings\n",
    "warnings.filterwarnings(\"ignore\")\n",
    "\n",
    "import os\n",
    "import psycopg2\n",
    "import pandas as pd\n",
    "import numpy as np\n",
    "import matplotlib.pyplot as plt\n",
    "import seaborn as sns\n",
    "\n",
    "# read environment variables from vars.env\n",
    "from dotenv import load_dotenv\n",
    "load_dotenv(\"../../vars.env\")\n",
    "\n",
    "# connect to postgresql db on localhost, post 5432, using user and password from vars.env\n",
    "\n",
    "import psycopg2\n",
    "import os\n",
    "\n",
    "# Define the database credentials\n",
    "db_host = os.getenv(\"POSTGRES_HOST\")\n",
    "db_name = os.getenv(\"POSTGRES_DB\")\n",
    "db_user = os.getenv(\"POSTGRES_USER\")\n",
    "db_password = os.getenv(\"POSTGRES_PWD\")\n",
    "\n",
    "# Create the connection\n",
    "connection = psycopg2.connect(\n",
    "    host=db_host,\n",
    "    database=db_name,\n",
    "    user=db_user,\n",
    "    password=db_password\n",
    ")\n",
    "\n"
   ]
  },
  {
   "cell_type": "code",
   "execution_count": null,
   "metadata": {},
   "outputs": [],
   "source": [
    "dataset_str = \"English\"\n",
    "query = f\"\"\"\n",
    "SELECT sample.* \n",
    "FROM sample\n",
    "JOIN dataset ON sample.dataset_id = dataset.id\n",
    "WHERE dataset.name='{dataset_str}' \n",
    "    AND sample.trimmed_audio_duration > 0 \n",
    "    AND sample.trimmed_audio_duration < 5 \n",
    "    AND sample.longest_pause < 0.5\n",
    "    AND sample.is_selected_for_delivery = TRUE\n",
    "\"\"\"\n",
    "\n",
    "\n",
    "\n",
    "# Assume you've loaded the sample and annotation tables as DataFrames\n",
    "sample_df = pd.read_sql(query, connection)\n",
    "annotation_df = pd.read_sql(\"SELECT * FROM annotation\", connection)\n",
    "\n",
    "# Merge the DataFrames based on the sample.id and annotation.sample_id\n",
    "merged_df = pd.merge(sample_df, annotation_df, left_on='id', right_on='sample_id', how='left')\n"
   ]
  },
  {
   "cell_type": "code",
   "execution_count": null,
   "metadata": {},
   "outputs": [],
   "source": [
    "merged_df = merged_df[~merged_df.status.isnull()]\n",
    "\n",
    "# drop duplicates in id_x and select first row\n",
    "merged_df = merged_df.drop_duplicates(subset=['id_x'], keep='first')\n",
    "\n"
   ]
  },
  {
   "cell_type": "code",
   "execution_count": null,
   "metadata": {},
   "outputs": [],
   "source": [
    "# merged_df = merged_df[[\"filename\", \"original_text\", \"final_text\"]]"
   ]
  },
  {
   "cell_type": "code",
   "execution_count": null,
   "metadata": {},
   "outputs": [],
   "source": [
    "merged_df[\"is_edited\"] = False\n",
    "# merged_df[merged_df.original_text != merged_df.final_text][\"is_edited\"] = True\n",
    "merged_df.loc[merged_df.original_text != merged_df.final_text, \"is_edited\"] = True\n",
    "# if status = Discarded then is_edited = False\n",
    "merged_df.loc[merged_df.status == \"Discarded\", \"is_edited\"] = False\n"
   ]
  },
  {
   "cell_type": "code",
   "execution_count": null,
   "metadata": {},
   "outputs": [],
   "source": [
    "merged_df.shape"
   ]
  },
  {
   "cell_type": "code",
   "execution_count": null,
   "metadata": {},
   "outputs": [],
   "source": [
    "merged_df[merged_df.is_edited == True][[\"filename\", \"original_text\", \"final_text\"]].head(10)"
   ]
  },
  {
   "cell_type": "code",
   "execution_count": null,
   "metadata": {},
   "outputs": [],
   "source": [
    "merged_df[\"is_edited\"].value_counts(normalize=True)"
   ]
  },
  {
   "cell_type": "code",
   "execution_count": null,
   "metadata": {},
   "outputs": [],
   "source": [
    "merged_df.status.value_counts(normalize=True)"
   ]
  },
  {
   "cell_type": "code",
   "execution_count": null,
   "metadata": {},
   "outputs": [],
   "source": [
    "# calculate the duration of the not discarded samples\n",
    "merged_df[merged_df.status != \"Discarded\"].trimmed_audio_duration.sum() / 60 / 60"
   ]
  },
  {
   "cell_type": "code",
   "execution_count": null,
   "metadata": {},
   "outputs": [],
   "source": []
  }
 ],
 "metadata": {
  "kernelspec": {
   "display_name": "corpus-insight",
   "language": "python",
   "name": "python3"
  },
  "language_info": {
   "codemirror_mode": {
    "name": "ipython",
    "version": 3
   },
   "file_extension": ".py",
   "mimetype": "text/x-python",
   "name": "python",
   "nbconvert_exporter": "python",
   "pygments_lexer": "ipython3",
   "version": "3.8.8"
  },
  "orig_nbformat": 4
 },
 "nbformat": 4,
 "nbformat_minor": 2
}
