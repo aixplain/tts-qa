{
 "cells": [
  {
   "cell_type": "code",
   "execution_count": null,
   "metadata": {},
   "outputs": [],
   "source": [
    "from glob import glob\n",
    "import  pandas as pd\n",
    "import soundfile as sf\n",
    "import os\n",
    "\n",
    "df_trimmed = pd.read_csv(\"trimmed_durations_de.csv\")"
   ]
  },
  {
   "cell_type": "code",
   "execution_count": null,
   "metadata": {},
   "outputs": [],
   "source": [
    "csv_files = glob('*_German*/*.csv')\n",
    "csv_files = sorted(csv_files)\n",
    "\n",
    "\n",
    "df_aggregated = pd.DataFrame(columns=[\"file\", \"duration_before_matching\",\"duration_after_mathing\", \"duration_after_trimming\", \"total_files\", \"assigned\", \"not_assigned\"])\n",
    "dfs = []\n",
    "for csv_file in csv_files:\n",
    "    print(csv_file)\n",
    "    df = pd.read_csv(csv_file)\n",
    "    df[\"duration\"] = df[\"end\"] - df[\"start\"]\n",
    "\n",
    "    df[\"filename\"] = df[\"sentenceNumber\"].apply(lambda x: \"DE\" + str(x).zfill(8) + \".wav\")\n",
    "    # merge with trimmed durations and df_all using filename as key and keep the df_all index\n",
    "    df = df[['status', 'filename', 'sentenceNumber', 'sentence', 'asr']].merge(df_trimmed[[\"deliverable\",\"filename\" ,\"duration_before_trimming\", \"trim_start\",\t\"trim_end\",\t\"duration_after_trimming\"]], on=\"filename\", how=\"left\")\n",
    "\n",
    "    wav_file  = csv_file[:-4]\n",
    "    data, samplerate = sf.read(wav_file)\n",
    "    duration = len(data) / samplerate\n",
    "    row_aggregated = {\"file\": os.path.basename(wav_file), \"duration_before_matching\": duration}\n",
    "\n",
    "    row_aggregated[\"duration_after_mathing\"] = df[\"duration_before_trimming\"].sum()\n",
    "    row_aggregated[\"duration_after_trimming\"] = df[\"duration_after_trimming\"].sum()\n",
    "    row_aggregated[\"total_files\"] = len(df)\n",
    "    row_aggregated[\"assigned\"] = df[df['status'] == \"assigned\"].shape[0]\n",
    "    row_aggregated[\"not_assigned\"] = df[df['status'] == \"not_assigned\"].shape[0]\n",
    "    \n",
    "    df_aggregated = df_aggregated.append(row_aggregated, ignore_index=True)\n",
    "    dfs.append(df)\n"
   ]
  },
  {
   "cell_type": "code",
   "execution_count": null,
   "metadata": {},
   "outputs": [],
   "source": [
    "df_all = pd.concat(dfs)\n",
    "df_all.to_csv(\"all_samples_provided-de.csv\", index=False)"
   ]
  },
  {
   "cell_type": "code",
   "execution_count": null,
   "metadata": {},
   "outputs": [],
   "source": [
    "df_aggregated.to_csv(\"aggregated-de.csv\", index=False)"
   ]
  },
  {
   "cell_type": "code",
   "execution_count": null,
   "metadata": {},
   "outputs": [],
   "source": [
    "df_all"
   ]
  },
  {
   "cell_type": "code",
   "execution_count": null,
   "metadata": {},
   "outputs": [],
   "source": [
    "df_aggregated"
   ]
  },
  {
   "cell_type": "code",
   "execution_count": null,
   "metadata": {},
   "outputs": [],
   "source": [
    "# Take 20 secs of wav_file and save it as wav_file_20s.wav\n",
    "\n",
    "!ffmpeg -i 'batches_GermanM1/DE00005198 - DE00006004.wav' -ss 00:00:00 -t 00:01:00 -c copy German_60s.wav"
   ]
  },
  {
   "cell_type": "code",
   "execution_count": null,
   "metadata": {},
   "outputs": [],
   "source": []
  }
 ],
 "metadata": {
  "kernelspec": {
   "display_name": "corpus-insight",
   "language": "python",
   "name": "python3"
  },
  "language_info": {
   "codemirror_mode": {
    "name": "ipython",
    "version": 3
   },
   "file_extension": ".py",
   "mimetype": "text/x-python",
   "name": "python",
   "nbconvert_exporter": "python",
   "pygments_lexer": "ipython3",
   "version": "3.8.8"
  }
 },
 "nbformat": 4,
 "nbformat_minor": 2
}
