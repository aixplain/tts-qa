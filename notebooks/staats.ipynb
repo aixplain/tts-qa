{
 "cells": [
  {
   "cell_type": "code",
   "execution_count": null,
   "metadata": {},
   "outputs": [],
   "source": [
    "from glob import glob\n",
    "import  pandas as pd\n",
    "import soundfile as sf\n",
    "import os\n",
    "\n",
    "df = pd.read_csv(\"/data/tts-qa/share_25h/German/German.csv\")"
   ]
  },
  {
   "cell_type": "code",
   "execution_count": null,
   "metadata": {},
   "outputs": [],
   "source": [
    "df.head()"
   ]
  },
  {
   "cell_type": "code",
   "execution_count": null,
   "metadata": {},
   "outputs": [],
   "source": [
    "# for each file get the duration and write to a new column as calculated_duration audio_duration = librosa.get_duration(filename=path)\n",
    "df[\"full_path\"] = df[\"filepath\"].apply(lambda x: f\"/data/tts-qa/share_25h/German/{x}\")\n"
   ]
  },
  {
   "cell_type": "code",
   "execution_count": null,
   "metadata": {},
   "outputs": [],
   "source": [
    "df.head()"
   ]
  },
  {
   "cell_type": "code",
   "execution_count": null,
   "metadata": {},
   "outputs": [],
   "source": [
    "import librosa\n",
    "df[\"audio_duration\"] = df[\"full_path\"].apply(lambda x: round(librosa.get_duration(filename=x), 2))"
   ]
  },
  {
   "cell_type": "code",
   "execution_count": null,
   "metadata": {},
   "outputs": [],
   "source": [
    "#check files have  abs(duration- audio_duration) >0.01\n",
    "df[\"duration_diff\"] = abs(df[\"duration\"] - df[\"audio_duration\"])\n",
    "\n",
    "\n",
    "df.sort_values(by=\"duration_diff\", ascending=False).head(10)\n",
    "\n"
   ]
  },
  {
   "cell_type": "code",
   "execution_count": null,
   "metadata": {},
   "outputs": [],
   "source": [
    "df.shape"
   ]
  },
  {
   "cell_type": "code",
   "execution_count": null,
   "metadata": {},
   "outputs": [],
   "source": []
  }
 ],
 "metadata": {
  "kernelspec": {
   "display_name": "corpus-insight",
   "language": "python",
   "name": "python3"
  },
  "language_info": {
   "codemirror_mode": {
    "name": "ipython",
    "version": 3
   },
   "file_extension": ".py",
   "mimetype": "text/x-python",
   "name": "python",
   "nbconvert_exporter": "python",
   "pygments_lexer": "ipython3",
   "version": "3.8.8"
  }
 },
 "nbformat": 4,
 "nbformat_minor": 2
}
