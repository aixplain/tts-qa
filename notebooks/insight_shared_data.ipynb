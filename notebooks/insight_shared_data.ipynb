{
 "cells": [
  {
   "cell_type": "code",
   "execution_count": null,
   "metadata": {},
   "outputs": [],
   "source": [
    "# connect to postgresql db usingenvironment variable read from vars.env \n",
    "\n",
    "import os\n",
    "import psycopg2\n",
    "import pandas as pd\n",
    "import numpy as np\n",
    "import matplotlib.pyplot as plt\n",
    "import seaborn as sns\n",
    "\n",
    "# read environment variables from vars.env\n",
    "from dotenv import load_dotenv\n",
    "load_dotenv(\"../vars.env\")\n",
    "\n",
    "# connect to postgresql db on localhost, post 5432, using user and password from vars.env\n",
    "\n",
    "import psycopg2\n",
    "import os\n",
    "\n",
    "# Define the database credentials\n",
    "db_host = os.getenv(\"POSTGRES_HOST\")\n",
    "db_name = os.getenv(\"POSTGRES_DB\")\n",
    "db_user = os.getenv(\"POSTGRES_USER\")\n",
    "db_password = os.getenv(\"POSTGRES_PWD\")\n",
    "\n",
    "\n",
    "# Connect to the database\n",
    "conn = psycopg2.connect(\n",
    "    host=db_host,\n",
    "    database=db_name,\n",
    "    user=db_user,\n",
    "    password=db_password\n",
    ")"
   ]
  },
  {
   "cell_type": "code",
   "execution_count": null,
   "metadata": {},
   "outputs": [],
   "source": [
    "df = pd.read_csv(\"/data/tts-qa/share_30h/Italian/Italian.csv\")"
   ]
  },
  {
   "cell_type": "code",
   "execution_count": null,
   "metadata": {},
   "outputs": [],
   "source": [
    "filenames = df['filename'].tolist()\n",
    "\n",
    "# get all samples from the database that are in the list of filenames\n",
    "\n",
    "sql = \"SELECT * FROM sample WHERE filename IN %s\"\n",
    "\n",
    "\n",
    "df_samples = pd.read_sql(sql, conn, params=(tuple(filenames),))\n"
   ]
  },
  {
   "cell_type": "code",
   "execution_count": null,
   "metadata": {},
   "outputs": [],
   "source": [
    "df_samples.to_csv(\"Italian30h-share.csv\", index=False)"
   ]
  },
  {
   "attachments": {},
   "cell_type": "markdown",
   "metadata": {},
   "source": [
    "# Insights"
   ]
  },
  {
   "cell_type": "code",
   "execution_count": null,
   "metadata": {},
   "outputs": [],
   "source": [
    "language = \"French\" # Spanish, French\n",
    "df = pd.read_csv(f\"{language}-share.csv\")\n",
    "df.sort_values(by=['wer'], inplace=True)\n",
    "df.head()"
   ]
  },
  {
   "cell_type": "code",
   "execution_count": null,
   "metadata": {},
   "outputs": [],
   "source": [
    "df.tail()"
   ]
  },
  {
   "cell_type": "code",
   "execution_count": null,
   "metadata": {},
   "outputs": [],
   "source": [
    "print(f\"There are {len(df)} samples in the {language} dataset.\")\n",
    "print(f\"Total duration is {df['trimmed_audio_duration'].sum()/3600:.2f} hours.\")"
   ]
  },
  {
   "cell_type": "code",
   "execution_count": null,
   "metadata": {},
   "outputs": [],
   "source": [
    "df.wer.describe()"
   ]
  },
  {
   "cell_type": "code",
   "execution_count": null,
   "metadata": {},
   "outputs": [],
   "source": [
    "# plot the distribution of WERs\n",
    "\n",
    "plt.figure(figsize=(8, 6))\n",
    "\n",
    "sns.distplot(df.wer, kde=True, bins=30, color=\"b\")\n",
    "plt.title(f\"WER distribution for {language} share\")\n",
    "plt.xlabel(\"WER\")\n",
    "plt.ylabel(\"Count\")\n"
   ]
  },
  {
   "cell_type": "code",
   "execution_count": null,
   "metadata": {},
   "outputs": [],
   "source": [
    "# plot the percentage of the sentence type\n",
    "\n",
    "df['sentence_type'].value_counts().plot(kind='pie', autopct='%1.1f%%', figsize=(8, 8))\n",
    "plt.title(f\"Sentence type distribution for {language}\")\n"
   ]
  },
  {
   "cell_type": "code",
   "execution_count": null,
   "metadata": {},
   "outputs": [],
   "source": [
    "# plot sentence length distribution\n",
    "df['sentence_length'].plot(kind='hist', bins=100, figsize=(8, 6))\n",
    "plt.title(f\"Sentence length distribution for {language}\")"
   ]
  },
  {
   "cell_type": "code",
   "execution_count": null,
   "metadata": {},
   "outputs": [],
   "source": [
    "# get average duration for one word \n",
    "df['duration_per_word'] = df['trimmed_audio_duration'] / df['sentence_length']\n",
    "\n",
    "# plot dist of duration per word\n",
    "df['duration_per_word'].plot(kind='hist', bins=100, figsize=(8, 6))\n",
    "plt.title(f\"Duration per word distribution for {language}\")\n",
    "plt.xlabel(\"Duration per word (s)\")\n"
   ]
  },
  {
   "cell_type": "code",
   "execution_count": null,
   "metadata": {},
   "outputs": [],
   "source": []
  }
 ],
 "metadata": {
  "kernelspec": {
   "display_name": "corpus-insight",
   "language": "python",
   "name": "python3"
  },
  "language_info": {
   "codemirror_mode": {
    "name": "ipython",
    "version": 3
   },
   "file_extension": ".py",
   "mimetype": "text/x-python",
   "name": "python",
   "nbconvert_exporter": "python",
   "pygments_lexer": "ipython3",
   "version": "3.8.8"
  }
 },
 "nbformat": 4,
 "nbformat_minor": 2
}
