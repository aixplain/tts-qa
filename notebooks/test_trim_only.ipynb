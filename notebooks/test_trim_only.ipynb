{
 "cells": [
  {
   "cell_type": "code",
   "execution_count": null,
   "metadata": {},
   "outputs": [],
   "source": [
    "# connect to postgresql db usingenvironment variable read from vars.env \n",
    "\n",
    "import os\n",
    "import psycopg2\n",
    "import pandas as pd\n",
    "import numpy as np\n",
    "import matplotlib.pyplot as plt\n",
    "import seaborn as sns\n",
    "\n",
    "# read environment variables from vars.env\n",
    "from dotenv import load_dotenv\n",
    "load_dotenv(\"../vars.env\")\n",
    "\n",
    "# connect to postgresql db on localhost, post 5432, using user and password from vars.env\n",
    "\n",
    "import psycopg2\n",
    "import os\n",
    "import sys\n",
    "sys.path.append(\"../\")\n",
    "\n",
    "\n",
    "from src.utils.audio import trim_only, evaluate_audio, asr_and_trim_aws, asr_and_trim_azure\n",
    "\n"
   ]
  },
  {
   "cell_type": "code",
   "execution_count": null,
   "metadata": {},
   "outputs": [],
   "source": [
    "sample = \"/data/tts-qa/tts-data/English(Melynda)/raw/EN00058775.wav\"\n",
    "# listen \n",
    "import IPython.display as ipd\n",
    "ipd.Audio(sample)\n"
   ]
  },
  {
   "cell_type": "code",
   "execution_count": null,
   "metadata": {},
   "outputs": [],
   "source": [
    "vad_trim = trim_only(sample)"
   ]
  },
  {
   "cell_type": "code",
   "execution_count": null,
   "metadata": {},
   "outputs": [],
   "source": [
    "asr_and_trim_aws(\"s3://user-ahmet/tts-data/English(Melynda)/raw/EN00058775.wav\", language=\"en\")"
   ]
  },
  {
   "cell_type": "code",
   "execution_count": null,
   "metadata": {},
   "outputs": [],
   "source": [
    "asr_and_trim_azure(\"s3://user-ahmet/tts-data/English(Melynda)/raw/EN00058775.wav\", \"en\")"
   ]
  },
  {
   "cell_type": "code",
   "execution_count": null,
   "metadata": {},
   "outputs": [],
   "source": [
    "# trim file\n",
    "# {'trim_start': 0.0084375,\n",
    "#  'trim_end': 4.547812500000001,\n",
    "#  'trimmed_audio_duration': 4.539375000000001,\n",
    "#  'longest_pause': 0}\n",
    "\n",
    "from pydub import AudioSegment\n",
    "\n",
    "def trim_audio_file(audio_file, trim_start, trim_end):\n",
    "    \"\"\"\n",
    "    Trim audio file to specified start and end times.\n",
    "    \"\"\"\n",
    "    audio = AudioSegment.from_file(audio_file)\n",
    "    trimmed_audio = audio[trim_start*1000:trim_end*1000]\n",
    "    return trimmed_audio"
   ]
  },
  {
   "cell_type": "code",
   "execution_count": null,
   "metadata": {},
   "outputs": [],
   "source": [
    "trimmed = trim_audio_file(sample, trim_details[\"trim_start\"], trim_details[\"trim_end\"])\n"
   ]
  },
  {
   "cell_type": "code",
   "execution_count": null,
   "metadata": {},
   "outputs": [],
   "source": [
    "trimmed"
   ]
  },
  {
   "cell_type": "code",
   "execution_count": null,
   "metadata": {},
   "outputs": [],
   "source": []
  }
 ],
 "metadata": {
  "kernelspec": {
   "display_name": "corpus-insight",
   "language": "python",
   "name": "python3"
  },
  "language_info": {
   "codemirror_mode": {
    "name": "ipython",
    "version": 3
   },
   "file_extension": ".py",
   "mimetype": "text/x-python",
   "name": "python",
   "nbconvert_exporter": "python",
   "pygments_lexer": "ipython3",
   "version": "3.8.8"
  }
 },
 "nbformat": 4,
 "nbformat_minor": 2
}
