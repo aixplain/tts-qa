{
 "cells": [
  {
   "cell_type": "code",
   "execution_count": 3,
   "metadata": {},
   "outputs": [],
   "source": [
    "import base64\n",
    "import configparser\n",
    "import datetime\n",
    "import io\n",
    "import os\n",
    "import pdb\n",
    "import sys\n",
    "\n",
    "import pandas as pd\n",
    "import requests\n",
    "import streamlit as st\n",
    "\n",
    "from glob import glob\n",
    "import tempfile\n",
    "import zipfile\n",
    "# aapedn 3 parent directories to the path\n",
    "sys.path.append(\"..\")\n",
    "\n",
    "from dotenv import load_dotenv\n",
    "\n",
    "from src.logger import root_logger\n",
    "from src.paths import paths\n",
    "\n",
    "\n",
    "BASE_DIR = str(paths.PROJECT_ROOT_DIR.resolve())\n",
    "# load the .env file\n",
    "load_dotenv(os.path.join(BASE_DIR, \"vars.env\"))\n",
    "\n",
    "lang_map = {\n",
    "    \"English\": \"en\",\n",
    "    \"German\": \"de\",\n",
    "    \"French\": \"fr\",\n",
    "    \"Spanish\": \"es\",\n",
    "    \"Italian\": \"it\",\n",
    "}\n",
    "\n",
    "BACKEND_URL = \"http://{}:{}\".format(os.environ.get(\"SERVER_HOST\"), os.environ.get(\"SERVER_PORT\"))\n",
    "\n",
    "# set wide layout"
   ]
  },
  {
   "cell_type": "code",
   "execution_count": 6,
   "metadata": {},
   "outputs": [
    {
     "data": {
      "text/plain": [
       "{'id': 13,\n",
       " 'name': 'Spanish 3',\n",
       " 'language': 'es',\n",
       " 'description': 'My first dataset',\n",
       " 'created_at': '2023-04-06T11:38:26.561506'}"
      ]
     },
     "execution_count": 6,
     "metadata": {},
     "output_type": "execute_result"
    }
   ],
   "source": [
    "# send a post request to create a dataset\n",
    "# the request qould look like this:  /datasets/Spanish%201?language=es&description=This%20is%20an%20test\n",
    "\n",
    "name = \"Spanish 3\"\n",
    "\n",
    "params = {\n",
    "    \"language\": \"es\",\n",
    "    \"description\": \"My first dataset\",\n",
    "}\n",
    "\n",
    "dataset = requests.post(\n",
    "                BACKEND_URL + \"/datasets/{}\".format(name),\n",
    "                params=params,\n",
    "            ).json()\n",
    "dataset\n",
    "\n"
   ]
  },
  {
   "cell_type": "code",
   "execution_count": null,
   "metadata": {},
   "outputs": [],
   "source": []
  }
 ],
 "metadata": {
  "kernelspec": {
   "display_name": "corpus-insight",
   "language": "python",
   "name": "python3"
  },
  "language_info": {
   "codemirror_mode": {
    "name": "ipython",
    "version": 3
   },
   "file_extension": ".py",
   "mimetype": "text/x-python",
   "name": "python",
   "nbconvert_exporter": "python",
   "pygments_lexer": "ipython3",
   "version": "3.8.8"
  },
  "orig_nbformat": 4
 },
 "nbformat": 4,
 "nbformat_minor": 2
}
