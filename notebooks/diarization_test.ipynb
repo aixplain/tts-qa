{
 "cells": [
  {
   "cell_type": "code",
   "execution_count": null,
   "metadata": {},
   "outputs": [],
   "source": [
    "import os\n",
    "import sys\n",
    "\n",
    "sys.path.append( \"..\")\n",
    "\n",
    "from src.utils.audio import asr_and_trim_azure, trim_audio, trim_only\n",
    "\n",
    "import os\n",
    "\n",
    "\n",
    "os.environ[\"TEAM_API_KEY\"] = \"2b3632015768088470d98273667a627e0e5a7d2d659ec3cf4b06bfa368eaa1a8\"\n",
    "import time\n",
    "\n",
    "import librosa\n",
    "import pandas as pd\n",
    "import soundfile as sf\n",
    "from aixplain.factories.model_factory import ModelFactory"
   ]
  },
  {
   "cell_type": "code",
   "execution_count": null,
   "metadata": {},
   "outputs": [],
   "source": [
    "from src.utils.whisper_model import WhisperTimestampedASR\n",
    "\n",
    "model = WhisperTimestampedASR(model_size=\"tiny\", language=\"german\", device=\"cpu\")"
   ]
  },
  {
   "cell_type": "code",
   "execution_count": null,
   "metadata": {},
   "outputs": [],
   "source": [
    "# file = \"/data/tts-qa/tts-data/English(Melynda)/raw/EN00058775.wav\"\n",
    "# file = \"/data/tts-qa/tts-data/English(Melynda)/raw/EN00053778.wav\"\n",
    "# file = \"/data/tts-qa/tts-data/English(Melynda)/raw/EN00028905.wav\"\n",
    "file = \"/data/tts-qa/tts-data/English(Melynda)/raw/EN00028751.wav\""
   ]
  },
  {
   "cell_type": "code",
   "execution_count": null,
   "metadata": {},
   "outputs": [],
   "source": [
    "model.load(\"english\"    )\n",
    "\n"
   ]
  },
  {
   "cell_type": "code",
   "execution_count": null,
   "metadata": {},
   "outputs": [],
   "source": [
    "model.predict({\"instances\": [{\"url\": file}]})['segments'][0]"
   ]
  },
  {
   "cell_type": "code",
   "execution_count": null,
   "metadata": {},
   "outputs": [],
   "source": [
    "api_keys_aws = {\n",
    "    \"de\": {\n",
    "        \"api_key\": \"2b3632015768088470d98273667a627e0e5a7d2d659ec3cf4b06bfa368eaa1a8\",\n",
    "        \"id\": \"60ddefc48d38c51c5885fd69\",\n",
    "        \"model\": ModelFactory.create_asset_from_id(\"60ddefc48d38c51c5885fd69\"),\n",
    "    },\n",
    "    \"en\": {\n",
    "        \"api_key\": \"2b3632015768088470d98273667a627e0e5a7d2d659ec3cf4b06bfa368eaa1a8\",\n",
    "        \"id\": \"60ddef908d38c51c5885dd1e\",\n",
    "        \"model\": ModelFactory.create_asset_from_id(\"60ddef908d38c51c5885dd1e\"),\n",
    "    }}\n"
   ]
  },
  {
   "cell_type": "code",
   "execution_count": null,
   "metadata": {},
   "outputs": [],
   "source": [
    "language=\"en\"\n",
    "model = api_keys_aws[language][\"model\"]\n",
    "model_response = model.run(data=file, name=f\"ASR model ({language})\")\n"
   ]
  },
  {
   "cell_type": "code",
   "execution_count": null,
   "metadata": {},
   "outputs": [],
   "source": [
    "import pandas as pd\n",
    "\n",
    "df_details = pd.DataFrame(model_response[\"details\"][\"segments\"])"
   ]
  },
  {
   "cell_type": "code",
   "execution_count": null,
   "metadata": {},
   "outputs": [],
   "source": [
    "df_details.dropna(inplace=True)\n",
    "\n",
    "df_details[\"pauses\"] = df_details[\"start_time\"].shift(-1) - df_details[\"end_time\"]\n",
    "df_details[\"pauses\"] = df_details[\"pauses\"].fillna(0)\n",
    "transcription = \" \".join(df_details[\"text\"])\n",
    "\n",
    "start_time = df_details[\"start_time\"].values[0]\n",
    "end_time = df_details[\"end_time\"].values[-1]\n",
    "audio_duration = end_time - start_time\n",
    "\n",
    "response = {}\n",
    "response[\"asr_text\"] = transcription\n",
    "response[\"trim_start\"] = start_time\n",
    "response[\"trim_end\"] = end_time\n",
    "response[\"trimmed_audio_duration\"] = audio_duration\n",
    "response[\"longest_pause\"] = df_details[\"pauses\"].max()"
   ]
  },
  {
   "cell_type": "code",
   "execution_count": null,
   "metadata": {},
   "outputs": [],
   "source": [
    "response"
   ]
  },
  {
   "cell_type": "code",
   "execution_count": null,
   "metadata": {},
   "outputs": [],
   "source": [
    "# get duration of audio file\n",
    "from pydub import AudioSegment\n",
    "\n",
    "def get_duration(path):\n",
    "    sound = AudioSegment.from_file(path)\n",
    "    return sound.duration_seconds\n",
    "get_duration(file)"
   ]
  },
  {
   "cell_type": "code",
   "execution_count": null,
   "metadata": {},
   "outputs": [],
   "source": [
    "vad_trim = trim_only(file)"
   ]
  },
  {
   "cell_type": "code",
   "execution_count": null,
   "metadata": {},
   "outputs": [],
   "source": [
    "vad_trim"
   ]
  },
  {
   "cell_type": "code",
   "execution_count": null,
   "metadata": {},
   "outputs": [],
   "source": [
    "#get the  duration of file\n",
    "import librosa\n",
    "\n",
    "y, sr = librosa.load(file)\n",
    "\n",
    "print(librosa.get_duration(y=y, sr=sr))"
   ]
  },
  {
   "cell_type": "code",
   "execution_count": null,
   "metadata": {},
   "outputs": [],
   "source": [
    "# listen \n",
    "from IPython.display import Audio\n",
    "\n",
    "Audio(file)"
   ]
  },
  {
   "cell_type": "code",
   "execution_count": null,
   "metadata": {},
   "outputs": [],
   "source": [
    "from pydub import AudioSegment\n",
    "\n",
    "def trim_audio_file(audio_file, trim_start, trim_end):\n",
    "    \"\"\"\n",
    "    Trim audio file to specified start and end times.\n",
    "    \"\"\"\n",
    "    audio = AudioSegment.from_file(audio_file)\n",
    "    trimmed_audio = audio[trim_start*1000:trim_end*1000]\n",
    "    return trimmed_audio"
   ]
  },
  {
   "cell_type": "code",
   "execution_count": null,
   "metadata": {},
   "outputs": [],
   "source": [
    "trimmed_vad = trim_audio_file(file, vad_trim[\"trim_start\"], vad_trim[\"trim_end\"])"
   ]
  },
  {
   "cell_type": "code",
   "execution_count": null,
   "metadata": {},
   "outputs": [],
   "source": [
    "trimmed_vad"
   ]
  },
  {
   "cell_type": "code",
   "execution_count": null,
   "metadata": {},
   "outputs": [],
   "source": [
    "trimmed_aws = trim_audio_file(file, response[\"trim_start\"], response[\"trim_end\"])"
   ]
  },
  {
   "cell_type": "code",
   "execution_count": null,
   "metadata": {},
   "outputs": [],
   "source": [
    "trimmed_aws"
   ]
  },
  {
   "cell_type": "code",
   "execution_count": null,
   "metadata": {},
   "outputs": [],
   "source": []
  },
  {
   "cell_type": "code",
   "execution_count": null,
   "metadata": {},
   "outputs": [],
   "source": []
  }
 ],
 "metadata": {
  "kernelspec": {
   "display_name": "corpus-insight",
   "language": "python",
   "name": "python3"
  },
  "language_info": {
   "codemirror_mode": {
    "name": "ipython",
    "version": 3
   },
   "file_extension": ".py",
   "mimetype": "text/x-python",
   "name": "python",
   "nbconvert_exporter": "python",
   "pygments_lexer": "ipython3",
   "version": "3.8.8"
  }
 },
 "nbformat": 4,
 "nbformat_minor": 2
}
