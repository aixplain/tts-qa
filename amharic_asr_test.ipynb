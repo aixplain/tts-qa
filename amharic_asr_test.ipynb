{
 "cells": [
  {
   "cell_type": "code",
   "execution_count": null,
   "metadata": {},
   "outputs": [],
   "source": [
    "import os\n",
    "import sys\n",
    "sys.path.append(\"./\")\n",
    "\n",
    "from dotenv import load_dotenv, find_dotenv\n",
    "from src.paths import paths\n",
    "\n",
    "load_dotenv(os.path.join(paths.PROJECT_ROOT_DIR, \"vars.env\"))\n",
    "load_dotenv(os.path.join(paths.PROJECT_ROOT_DIR, \"secrets.env\"), override=True)"
   ]
  },
  {
   "cell_type": "code",
   "execution_count": null,
   "metadata": {},
   "outputs": [],
   "source": [
    "from aixplain.factories import ModelFactory\n",
    "\n",
    "model_amharic = ModelFactory.get(\"616d8b2bbcbd046748430402\")"
   ]
  },
  {
   "cell_type": "code",
   "execution_count": null,
   "metadata": {},
   "outputs": [],
   "source": [
    "wav_path = \"/tmp/tmpz9en4x90/From 1806 - 442875.wav\"\n",
    "\n",
    "result = model_amharic.run(wav_path)"
   ]
  },
  {
   "cell_type": "code",
   "execution_count": null,
   "metadata": {},
   "outputs": [],
   "source": [
    "result"
   ]
  },
  {
   "cell_type": "code",
   "execution_count": null,
   "metadata": {},
   "outputs": [],
   "source": []
  }
 ],
 "metadata": {
  "kernelspec": {
   "display_name": "corpus-insight",
   "language": "python",
   "name": "python3"
  },
  "language_info": {
   "codemirror_mode": {
    "name": "ipython",
    "version": 3
   },
   "file_extension": ".py",
   "mimetype": "text/x-python",
   "name": "python",
   "nbconvert_exporter": "python",
   "pygments_lexer": "ipython3",
   "version": "3.8.8"
  }
 },
 "nbformat": 4,
 "nbformat_minor": 2
}
