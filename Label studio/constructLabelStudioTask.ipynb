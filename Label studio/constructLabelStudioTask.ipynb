{
 "cells": [
  {
   "cell_type": "code",
   "execution_count": 101,
   "metadata": {},
   "outputs": [],
   "source": [
    "import re, requests, json\n",
    "\n",
    "taskAnnotation = \"\"\"\n",
    "{\n",
    "\"result\": [\n",
    "            {allAnnotations}\n",
    "        ],\n",
    "        \"ground_truth\": false,\n",
    "        \"lead_time\": 1\n",
    "    }\n",
    "\"\"\"\n",
    "\n",
    "subtaskAnnotation = \"\"\"\n",
    "        {\n",
    "          \"original_length\": {taskLen},\n",
    "          \"value\": {\n",
    "            \"start\": {taskStart},\n",
    "            \"end\": {taskEnd},\n",
    "            \"labels\": [\n",
    "              \"Speaker\"\n",
    "            ]\n",
    "          },\n",
    "          \"id\": \"{taskID}\",\n",
    "          \"from_name\": \"labels\",\n",
    "          \"to_name\": \"audio\",\n",
    "          \"type\": \"labels\",\n",
    "          \"origin\": \"manual\"\n",
    "        },\n",
    "        {\n",
    "          \"original_length\": {taskLen},\n",
    "          \"value\": {\n",
    "            \"start\": {taskStart},\n",
    "            \"end\": {taskEnd},\n",
    "            \"text\": [\n",
    "              \"{taskTEXT}\"\n",
    "            ]\n",
    "          },\n",
    "          \"id\": \"{taskID}\",\n",
    "          \"from_name\": \"text\",\n",
    "          \"to_name\": \"audio\",\n",
    "          \"type\": \"textarea\",\n",
    "          \"origin\": \"manual\"\n",
    "        },\n",
    "        {\n",
    "          \"original_length\": {taskLen},\n",
    "          \"value\": {\n",
    "            \"start\": {taskStart},\n",
    "            \"end\": {taskEnd},\n",
    "            \"text\": [\n",
    "              \"{taskASR}\"\n",
    "            ]\n",
    "          },\n",
    "          \"id\": \"{taskID}\",\n",
    "          \"from_name\": \"asr\",\n",
    "          \"to_name\": \"audio\",\n",
    "          \"type\": \"textarea\",\n",
    "          \"origin\": \"manual\"\n",
    "        },\n",
    "                {\n",
    "          \"original_length\": {taskLen},\n",
    "          \"value\": {\n",
    "            \"start\": {taskStart},\n",
    "            \"end\": {taskEnd},\n",
    "            \"text\": [\n",
    "              \"{taskASR}\"\n",
    "            ]\n",
    "          },\n",
    "          \"id\": \"{taskID}\",\n",
    "          \"from_name\": \"asr1\",\n",
    "          \"to_name\": \"audio\",\n",
    "          \"type\": \"textarea\",\n",
    "          \"origin\": \"manual\"\n",
    "        },\n",
    "                        {\n",
    "          \"original_length\": {taskLen},\n",
    "          \"value\": {\n",
    "            \"start\": {taskStart},\n",
    "            \"end\": {taskEnd},\n",
    "            \"text\": [\n",
    "              \"{taskTEXT}\"\n",
    "            ]\n",
    "          },\n",
    "          \"id\": \"{taskID}\",\n",
    "          \"from_name\": \"text1\",\n",
    "          \"to_name\": \"audio\",\n",
    "          \"type\": \"textarea\",\n",
    "          \"origin\": \"manual\"\n",
    "        }\n",
    "\"\"\"\n",
    "\n",
    "import os\n",
    "import random\n",
    "import gzip, json\n",
    "from pydub import AudioSegment\n",
    "import re, boto3\n",
    "import requests, datetime\n",
    "from label_studio_sdk import Client\n",
    "import os, sys\n",
    "\n",
    "curr_sec = 0\n",
    "sec = 1000\n",
    "minute = 60 * sec\n",
    "\n",
    "directory = 'Batch_1'\n",
    "batch = '1'\n",
    "\n",
    "sentences = {}"
   ]
  },
  {
   "attachments": {},
   "cell_type": "markdown",
   "metadata": {},
   "source": [
    "# Concatinate files"
   ]
  },
  {
   "cell_type": "code",
   "execution_count": 102,
   "metadata": {},
   "outputs": [],
   "source": [
    "with open(directory + '/sentences.txt', 'r', encoding='utf8') as f:\n",
    "  for l in f:\n",
    "    p = l.strip().replace('\\\\t','\\t').split('\\t')\n",
    "    if len(p) == 2:\n",
    "      sentences[int(p[0])] = p[1]  \n"
   ]
  },
  {
   "cell_type": "code",
   "execution_count": 103,
   "metadata": {},
   "outputs": [
    {
     "name": "stdout",
     "output_type": "stream",
     "text": [
      "./Batch_1/ES00000032-normalized.wav\n",
      "./Batch_1/ES00000033-normalized.wav\n",
      "./Batch_1/ES00000034-normalized.wav\n",
      "./Batch_1/ES00000035-normalized.wav\n",
      "./Batch_1/ES00000036-normalized.wav\n",
      "./Batch_1/ES00000037-normalized.wav\n",
      "./Batch_1/ES00000038-normalized.wav\n",
      "./Batch_1/ES00000039-normalized.wav\n",
      "./Batch_1/ES00000040-normalized.wav\n",
      "./Batch_1/ES00000041-normalized.wav\n",
      "./Batch_1/ES00000042-normalized.wav\n"
     ]
    }
   ],
   "source": [
    "# ranges = [[1,301,1], [301,588,2]] # [startSentence, EndSentence+1, group_number]\n",
    "ranges = [[32,43,1]]\n",
    "for r in ranges:\n",
    "  annotations = []\n",
    "  outputAudio = AudioSegment.empty()\n",
    "  outputAudio += AudioSegment.silent(duration=200)\n",
    "  for i in range(r[0], r[1]):\n",
    "    pad1 = 'ES000000'\n",
    "    pad2 = '-normalized'\n",
    "    if i < 10:\n",
    "      pad = '0'\n",
    "    if os.path.isfile('./' + directory + '/' + pad1 + str(i) + pad2 + '.wav'):\n",
    "      print('./' + directory + '/' + pad1 + str(i) + pad2 + '.wav')\n",
    "      data = AudioSegment.from_wav('./' + directory + '/' + pad1 + str(i) + pad2 + '.wav')\n",
    "      segmentID = str(i)\n",
    "      segmentLen = len(data)/sec\n",
    "      startTime = len(outputAudio)/sec\n",
    "      endTime = startTime + segmentLen\n",
    "      text = text1 = sentences[i]\n",
    "      asr = asr1 = 'asr'+ sentences[i]\n",
    "      tmp = subtaskAnnotation.replace('{taskLen}', str(endTime - startTime)).replace('{taskStart}', str(startTime)).replace('{taskEnd}', \\\n",
    "                                       str(endTime)).replace('{taskID}', str(i)).replace('{taskASR}', asr.strip().replace('\"', '')).replace('{taskTEXT}', text.strip().replace('\"', ''))\n",
    "      annotations.append(tmp)\n",
    "      outputAudio += data\n",
    "      outputAudio += AudioSegment.silent(duration=200)\n",
    "  fullAnnotation = taskAnnotation.replace('{allAnnotations}', ',\\n'.join(annotations))\n",
    "  fullAnnotation = json.loads(fullAnnotation)\n",
    "  outputFileName = directory + '/golara.batch_' + batch + '_' + str(r[2]) + '.wav'\n",
    "  outputAudio.export(outputFileName, format='wav')\n",
    "  with open(directory + '/golara.batch_' + batch + '_' + str(r[2]) + '.json', 'w', encoding='utf8') as f:\n",
    "    f.write(json.dumps(fullAnnotation))"
   ]
  },
  {
   "attachments": {},
   "cell_type": "markdown",
   "metadata": {},
   "source": [
    "# Upload data to LabelStudio"
   ]
  },
  {
   "cell_type": "code",
   "execution_count": 104,
   "metadata": {},
   "outputs": [],
   "source": [
    "import os\n",
    "import random\n",
    "import gzip, json\n",
    "from pydub import AudioSegment\n",
    "import re, boto3\n",
    "import requests, datetime\n",
    "from label_studio_sdk import Client\n",
    "\n",
    "# upload data to label studio\n",
    "def postAnnotations(url, annotationDraft, headers, taskID):\n",
    "    url_annotate = url + str(taskID) + '/annotations/'\n",
    "    response = requests.post(url=url_annotate, data=annotationDraft, headers=headers)\n",
    "    return response.content"
   ]
  },
  {
   "cell_type": "code",
   "execution_count": 105,
   "metadata": {},
   "outputs": [],
   "source": [
    "def postAnnotation(annotationDraft, headers, taskID):\n",
    "    url_annotate = 'https://label.aixplain.com/api/tasks/' + str(taskID) + '/annotations/'\n",
    "    response = requests.post(url=url_annotate, data=annotationDraft, headers=headers)\n",
    "    return response.content"
   ]
  },
  {
   "cell_type": "code",
   "execution_count": 106,
   "metadata": {},
   "outputs": [
    {
     "name": "stdout",
     "output_type": "stream",
     "text": [
      "[361218]\n"
     ]
    }
   ],
   "source": [
    "auth_token = '7fbe7f2b6e690b9d63076e16839a713012f25f5a'\n",
    "url = 'https://label.aixplain.com/api/tasks/'\n",
    "headers = {'Content-Type': 'application/json', 'Authorization': f'Token {auth_token}'}\n",
    "\n",
    "for r in ranges:\n",
    "    current_output_wav_file = 'golara.batch_' + batch + '_' + str(r[2]) + '.wav'\n",
    "\n",
    "    filesToUpload = open('out.wav.segmentFiles.Batch_' + batch + '_' + str(r[2]) + '.csv', mode='w', encoding='utf8')\n",
    "    filesToUpload.write('audio,label,url\\n')\n",
    "    filesToUpload.write('https://aix-label-studio.s3.amazonaws.com/TTS/Spanish/' + current_output_wav_file + ',1,https://aix-label-studio.s3.amazonaws.com/TTS/Spanish/' + current_output_wav_file)\n",
    "    filesToUpload.close()\n",
    "\n",
    "    #Upload to Label Studio to upload project\n",
    "    url_annotate = 'https://label.aixplain.com/'\n",
    "    project_id = 1259\n",
    "    ls = Client(url=url_annotate, api_key=auth_token, credentials=auth_token)\n",
    "    created_project = ls.get_project(project_id)\n",
    "    task_id = created_project.import_tasks('out.wav.segmentFiles.Batch_' + batch + '_' + str(r[2]) + '.csv')\n",
    "    print(task_id)\n",
    "    with open(directory + '/golara.batch_' + batch + '_' + str(r[2]) + '.json', 'r', encoding='utf8') as f:\n",
    "        fullAnnotation = json.loads(f.read())\n",
    "    response = postAnnotation(json.dumps(fullAnnotation), headers, task_id[0])"
   ]
  }
 ],
 "metadata": {
  "kernelspec": {
   "display_name": "labelstudio",
   "language": "python",
   "name": "python3"
  },
  "language_info": {
   "codemirror_mode": {
    "name": "ipython",
    "version": 3
   },
   "file_extension": ".py",
   "mimetype": "text/x-python",
   "name": "python",
   "nbconvert_exporter": "python",
   "pygments_lexer": "ipython3",
   "version": "3.11.2"
  },
  "orig_nbformat": 4,
  "vscode": {
   "interpreter": {
    "hash": "474147bfc65e8542f817839a40936b7e614b8679e9578d127beaf2c2315a01dd"
   }
  }
 },
 "nbformat": 4,
 "nbformat_minor": 2
}
