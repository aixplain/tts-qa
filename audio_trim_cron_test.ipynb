{
 "cells": [
  {
   "cell_type": "code",
   "execution_count": null,
   "metadata": {},
   "outputs": [],
   "source": [
    "# cooecnt to sqlalchedemy and create a session\n",
    "\n",
    "from sqlalchemy.orm import sessionmaker\n",
    "from src.service.models import Base, Annotator, Annotation, Dataset, Sample\n",
    "from sqlalchemy import create_engine\n",
    "import os\n",
    "\n",
    "from dotenv import load_dotenv\n",
    "\n",
    "load_dotenv(\"./vars.env\")\n",
    "\n",
    "\n",
    "# get engine from url\n",
    "POSTGRES_URL = os.getenv(\"POSTGRES_URL\")\n",
    "\n",
    "engine = create_engine(POSTGRES_URL)\n",
    "Session = sessionmaker(bind=engine)\n",
    "session = Session()\n"
   ]
  },
  {
   "cell_type": "code",
   "execution_count": null,
   "metadata": {},
   "outputs": [],
   "source": [
    "# get all datasets \n",
    "\n",
    "datasets = session.query(Dataset).all()"
   ]
  },
  {
   "cell_type": "code",
   "execution_count": null,
   "metadata": {},
   "outputs": [],
   "source": [
    "dataset = datasets[0]"
   ]
  },
  {
   "cell_type": "code",
   "execution_count": null,
   "metadata": {},
   "outputs": [],
   "source": [
    "# get all samples  of dataset\n",
    "\n",
    "samples = session.query(Sample).filter(Sample.dataset_id == dataset.id).filter(Sample.asr_text == None).all()\n"
   ]
  },
  {
   "cell_type": "code",
   "execution_count": null,
   "metadata": {},
   "outputs": [],
   "source": [
    "samples"
   ]
  },
  {
   "cell_type": "code",
   "execution_count": null,
   "metadata": {},
   "outputs": [],
   "source": [
    "# check all samples of dataset in which the asr_text is null and run a process to get the asr_text until there is no sample left\n",
    "from src.utils.audio import asr_and_trim\n",
    "from tqdm import tqdm\n",
    "\n",
    "dataset = datasets[0]\n",
    "language = dataset.language\n",
    "samples = session.query(Sample).filter(Sample.dataset_id == dataset.id).filter(Sample.asr_text == None).all()\n",
    "while len(samples) > 0:\n",
    "    for sample in tqdm(samples):\n",
    "        # get asr_text\n",
    "        response = asr_and_trim(sample.s3url, language)\n",
    "        sample.asr_text = response[\"asr_text\"]\n",
    "        sample.trim_start = response[\"trim_start\"]\n",
    "        sample.trim_end = response[\"trim_end\"]\n",
    "        sample.longest_pause = response[\"longest_pause\"]\n",
    "        \n",
    "        # update sample\n",
    "        session.add(sample)\n",
    "        session.commit()\n",
    "        \n",
    "    # get samples with asr_text = null\n",
    "    samples = session.query(Sample).filter(Sample.dataset_id == dataset.id).filter(Sample.asr_text == None).all()"
   ]
  },
  {
   "cell_type": "code",
   "execution_count": null,
   "metadata": {},
   "outputs": [],
   "source": [
    "response"
   ]
  },
  {
   "cell_type": "code",
   "execution_count": null,
   "metadata": {},
   "outputs": [],
   "source": [
    "0 * * * * /home/ubuntu/miniconda3/envs/corpus-insight/bin/python /home/ubuntu/corpus-insight/src/utils/trim_asr.py"
   ]
  }
 ],
 "metadata": {
  "kernelspec": {
   "display_name": "corpus-insight",
   "language": "python",
   "name": "python3"
  },
  "language_info": {
   "codemirror_mode": {
    "name": "ipython",
    "version": 3
   },
   "file_extension": ".py",
   "mimetype": "text/x-python",
   "name": "python",
   "nbconvert_exporter": "python",
   "pygments_lexer": "ipython3",
   "version": "3.8.8"
  }
 },
 "nbformat": 4,
 "nbformat_minor": 2
}
